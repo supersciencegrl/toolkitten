{
 "cells": [
  {
   "cell_type": "markdown",
   "metadata": {},
   "source": [
    "Goal: analyse sentiments with star ratings such that we can predict how happy someone is with a product from text alone"
   ]
  },
  {
   "cell_type": "code",
   "execution_count": 1,
   "metadata": {},
   "outputs": [],
   "source": [
    "%matplotlib inline\n",
    "datadir = \"./data/\"\n",
    "\n",
    "import urllib.request, os, gzip"
   ]
  },
  {
   "cell_type": "code",
   "execution_count": 2,
   "metadata": {},
   "outputs": [
    {
     "name": "stdout",
     "output_type": "stream",
     "text": [
      "Dataset Pet_Supplies has already been downloaded to ./data/\n"
     ]
    }
   ],
   "source": [
    "# Downloading a public dataset for Amazon reviews\n",
    "\n",
    "def download_data(dataset_name, datadir):\n",
    "    filename = \"reviews_%s_5.json\" % dataset_name\n",
    "    filepath = os.path.join(datadir, filename)\n",
    "    if os.path.exists(filepath):\n",
    "        print(\"Dataset %s has already been downloaded to %s\" % (dataset_name, datadir))\n",
    "    else:\n",
    "        url = \"http://snap.stanford.edu/data/amazon/productGraph/categoryFiles/%s.gz\" % filename\n",
    "        urllib.request.urlretrieve(url, filepath + \".gz\")\n",
    "        with gzip.open(filepath + \".gz\", \"rb\") as fin:\n",
    "            with open(filepath, \"wb\") as fout:\n",
    "                fout.write(fin.read())\n",
    "        print(\"Downloaded dataset %s and saved it to %s\" % (dataset_name, datadir))\n",
    "        \n",
    "dataset = \"Pet_Supplies\"\n",
    "download_data(dataset, datadir)"
   ]
  },
  {
   "cell_type": "code",
   "execution_count": 3,
   "metadata": {},
   "outputs": [
    {
     "name": "stdout",
     "output_type": "stream",
     "text": [
      "Loaded 157836 data for dataset Pet_Supplies\n",
      "{'reviewerID': 'AKGX64E7B6GSV', 'asin': 'B0002AQCXM', 'reviewerName': 'Frank Scarpelli', 'helpful': [0, 0], 'reviewText': 'Great for our Chameleon repti breeze, covers a good area for our pet to bask in the heat and move away when he has had enough.', 'overall': 5.0, 'summary': 'Does the Job.', 'unixReviewTime': 1372982400, 'reviewTime': '07 5, 2013', 'hash': -1676387978}\n"
     ]
    }
   ],
   "source": [
    "import json\n",
    "\n",
    "# item_hash will be used later to partition data\n",
    "# item converts JSON string to Python dict\n",
    "# item[\"hash\"] adds a hash for identification\n",
    "\n",
    "def load_data(dataset_name, datadir):\n",
    "    filepath = os.path.join(datadir, \"reviews_%s_5.json\" % dataset_name)\n",
    "    if not os.path.exists(filepath):\n",
    "        download_data(dataset_name, datadir)\n",
    "    data = []\n",
    "    with open(filepath, \"r\") as f:\n",
    "        for line in f:\n",
    "            item_hash = hash(line)\n",
    "            item = json.loads(line)\n",
    "            item[\"hash\"] = item_hash\n",
    "            data.append(item)\n",
    "    print(\"Loaded %d data for dataset %s\" % (len(data), dataset_name))\n",
    "    return data\n",
    "\n",
    "# Load data\n",
    "\n",
    "pet_supplies = load_data(dataset, datadir)\n",
    "\n",
    "# Look at example item\n",
    "print(pet_supplies[9057])"
   ]
  },
  {
   "cell_type": "markdown",
   "metadata": {},
   "source": [
    "Dataset comment: \n",
    "\n",
    "The whole dataset contains 157836 items, with 9 fields called \"reviewerID\", \"asin\", \"reviewerName\", \"helpful\", \"reviewText\", \"overall\", \"summary\", \"unixReviewTime\", and \"reviewTime\". I also added a hash, which is a single number identifying the data item that is (extremely likely to be) unique. \n",
    "\n",
    "This particular data item was written on the 5th of July 2013 by the user Frank Scarpelli. Frank summarized the item as \"does the job\", and rated it 5 stars (out of 5). Nobody listed his review as helpful or unhelpful. \n",
    "\n",
    "Rule of thumb: use 60% of data as training set, 20% as validation set, and 20% as test set. \n",
    "\n",
    "The modulus of the hash is used to achieve good randomization of data between these sets. "
   ]
  },
  {
   "cell_type": "code",
   "execution_count": 4,
   "metadata": {},
   "outputs": [
    {
     "name": "stdout",
     "output_type": "stream",
     "text": [
      "Now there are 94903 examples in the training set 31484 examples in the validation set, and 31449 examples in the test set\n"
     ]
    }
   ],
   "source": [
    "def partition_train_validation_test(data):\n",
    "    # 60% of data, modulus 0 to 5\n",
    "    data_train = [item for item in data if item[\"hash\"]%10<=5]\n",
    "    # 20% of data, modulus 6-7\n",
    "    data_valid = [item for item in data if item[\"hash\"]%10 in [6,7]]\n",
    "    # 20% of data, modulus 8-9\n",
    "    data_test = [item for item in data if item[\"hash\"]%10 in [8,9]]\n",
    "    return data_train, data_valid, data_test\n",
    "\n",
    "pet_supplies_train, pet_supplies_valid, pet_supplies_test = partition_train_validation_test(pet_supplies)\n",
    "\n",
    "print(\"Now there are\", len(pet_supplies_train), \"examples in the training set\", len(pet_supplies_valid), \"examples in the validation set, and\", len(pet_supplies_test), \"examples in the test set\")"
   ]
  },
  {
   "cell_type": "markdown",
   "metadata": {},
   "source": [
    "We need to preprocess the review text by extracting numeric features to feed into the predictor. For the simple baseline predictor, we will use two numeric features: frequency of positive words (fpos), and frequency of negative words (fneg). \n",
    "\n",
    "Hypothesis: reviews with high fpos are likely to get high star ratings; reviews with high fneg are likely to get low star ratings. fpos and fneg should be expressed as fractions to avoid bias from length of review. "
   ]
  },
  {
   "cell_type": "code",
   "execution_count": 5,
   "metadata": {},
   "outputs": [
    {
     "name": "stdout",
     "output_type": "stream",
     "text": [
      "Some positive words: innovation, pep, jaw-dropping, astonished, patriotic, dominate, magnificent, fantastically, swankier, awsome, promptly, jubiliant\n",
      "Some negative words: harden, brazenness, disrepute, intolerable, unthinkably, dissatisfactory, hoax, exile, nebulously, lethargic, violent, servitude\n",
      "Words appearing in both sets: enviously, envious, enviousness\n"
     ]
    }
   ],
   "source": [
    "from nltk.corpus import opinion_lexicon\n",
    "positive_words = set(opinion_lexicon.positive())\n",
    "negative_words = set(opinion_lexicon.negative())\n",
    "\n",
    "import random\n",
    "random.seed(1234)\n",
    "print(\"Some positive words:\", \", \".join(random.sample(positive_words, 12)))\n",
    "print(\"Some negative words:\", \", \".join(random.sample(negative_words, 12)))\n",
    "\n",
    "intersection = positive_words & negative_words\n",
    "print(\"Words appearing in both sets:\", \", \".join(intersection))"
   ]
  },
  {
   "cell_type": "code",
   "execution_count": 6,
   "metadata": {},
   "outputs": [
    {
     "name": "stdout",
     "output_type": "stream",
     "text": [
      "(0.8571428571428571, 0.0)\n",
      "(0.0, 0.8571428571428571)\n"
     ]
    }
   ],
   "source": [
    "# Output number of positive and negative words respectively for a review, after removing stopwords\n",
    "\n",
    "from nltk.corpus import stopwords\n",
    "from nltk.tokenize import sent_tokenize, word_tokenize\n",
    "stopwords = set(stopwords.words(\"english\"))\n",
    "\n",
    "def my_tokenize(text):\n",
    "    # tokenize text into lowercase tokens without punctuation and stopwords. any means that any token with a letter will be counted as a word\n",
    "    tokens = []\n",
    "    for sentence in sent_tokenize(text):\n",
    "        tokens.extend(word for word in word_tokenize(sentence.lower())\n",
    "                     if word not in stopwords and any(i.isalpha() for i in word))\n",
    "    return tokens\n",
    "\n",
    "def pos_neg_fraction(text):\n",
    "    tokens = my_tokenize(text)\n",
    "    count_pos, count_neg = 0, 0\n",
    "    for t in tokens:\n",
    "        if t in positive_words:\n",
    "            count_pos += 1\n",
    "        if t in negative_words:\n",
    "            count_neg += 1\n",
    "    # Avoid divide-by-zero for zero-length reviews\n",
    "    count_all = len(tokens)\n",
    "    if count_all != 0:\n",
    "        return count_pos / count_all, count_neg / count_all\n",
    "    else:\n",
    "        return 0., 0.\n",
    "    \n",
    "pos_example = \"This is a good, great, fantastic, amazing, wonderful, super product!\"\n",
    "neg_example = \"This is a bad, atrocious, terrible, dreadful, awful, abysmal product!\"\n",
    "print(pos_neg_fraction(pos_example))\n",
    "print(pos_neg_fraction(neg_example))"
   ]
  },
  {
   "cell_type": "markdown",
   "metadata": {},
   "source": [
    "Make sure you only use the training set for now! \n",
    "\n",
    "Convert the training set to a matrix \"X-train\" with two columns, for positive fraction and negative fraction. \n",
    "\n",
    "Represent matrices using numpy.array. "
   ]
  },
  {
   "cell_type": "code",
   "execution_count": 7,
   "metadata": {},
   "outputs": [
    {
     "name": "stdout",
     "output_type": "stream",
     "text": [
      "Highest fraction of positive words: 100.000000 % positive words for example 79\n",
      "{'reviewerID': 'A1K9SIFW86UAT8', 'asin': 'B00005MF9W', 'reviewerName': 'Laura Seche \"loll\"', 'helpful': [0, 0], 'reviewText': 'Great', 'overall': 5.0, 'summary': 'Five Stars', 'unixReviewTime': 1404864000, 'reviewTime': '07 9, 2014', 'hash': 1705898670}\n",
      "Highest fraction of negative words: 100.000000 % negative words for example 14242\n",
      "{'reviewerID': 'A3CLETWGOTGTSB', 'asin': 'B0002XUJFG', 'reviewerName': 'Melissa', 'helpful': [0, 0], 'reviewText': 'Leaks', 'overall': 2.0, 'summary': 'Two Stars', 'unixReviewTime': 1403740800, 'reviewTime': '06 26, 2014', 'hash': -1033962400}\n"
     ]
    }
   ],
   "source": [
    "import numpy\n",
    "\n",
    "def dataset_to_matrix(data):\n",
    "    return numpy.array([list(pos_neg_fraction(item[\"reviewText\"])) for item in data])\n",
    "\n",
    "X_train = dataset_to_matrix(pet_supplies_train)\n",
    "most_pos, most_neg = numpy.argmax(X_train, axis = 0)\n",
    "\n",
    "print(\"Highest fraction of positive words: %f %% positive words for example %d\" % (100.*X_train[most_pos, 0], most_pos))\n",
    "print(pet_supplies_train[most_pos])\n",
    "print(\"Highest fraction of negative words: %f %% negative words for example %d\" % (100.*X_train[most_neg, 1], most_neg))\n",
    "print(pet_supplies_train[most_neg])"
   ]
  },
  {
   "cell_type": "markdown",
   "metadata": {},
   "source": [
    "X_train is the feature matrix (known data) and Y_train is the target vector (what we want to predict). \n",
    "\n",
    "The field \"overall\" is used by Amazon for the star ratings."
   ]
  },
  {
   "cell_type": "code",
   "execution_count": 8,
   "metadata": {},
   "outputs": [
    {
     "name": "stdout",
     "output_type": "stream",
     "text": [
      "The two-dimensional feature matrix has shape (94903, 2)\n",
      "The one-dimensional target matrix has shape (94903,)\n"
     ]
    }
   ],
   "source": [
    "def dataset_to_targets(data):\n",
    "    return numpy.array([item[\"overall\"] for item in data])\n",
    "\n",
    "Y_train = dataset_to_targets(pet_supplies_train)\n",
    "print(\"The two-dimensional feature matrix has shape\", X_train.shape)\n",
    "print(\"The one-dimensional target matrix has shape\", Y_train.shape)"
   ]
  },
  {
   "cell_type": "markdown",
   "metadata": {},
   "source": [
    "For a real machine learning project you should now explore and visualize the data more to get a feeling for how features and targets are distributed to identify techniques that are a good fit for the problem. \n",
    "\n",
    "Take a look at the Pandas library to learn more... \n",
    "\n",
    "For now, we will visualize the number of each star ratings: "
   ]
  },
  {
   "cell_type": "code",
   "execution_count": 9,
   "metadata": {
    "scrolled": true
   },
   "outputs": [
    {
     "data": {
      "text/plain": [
       "<matplotlib.axes._subplots.AxesSubplot at 0x1eff1990>"
      ]
     },
     "execution_count": 9,
     "metadata": {},
     "output_type": "execute_result"
    },
    {
     "data": {
      "image/png": "[encoded data removed]",
      "text/plain": [
       "<Figure size 432x288 with 1 Axes>"
      ]
     },
     "metadata": {},
     "output_type": "display_data"
    }
   ],
   "source": [
    "import pandas\n",
    "pandas.Series(Y_train).value_counts().plot.bar()"
   ]
  },
  {
   "cell_type": "markdown",
   "metadata": {},
   "source": [
    "The data are biased towards 5-star ratings, which seems to be common. "
   ]
  },
  {
   "cell_type": "code",
   "execution_count": 10,
   "metadata": {},
   "outputs": [
    {
     "data": {
      "text/plain": [
       "<matplotlib.axes._subplots.AxesSubplot at 0x1f54aa70>"
      ]
     },
     "execution_count": 10,
     "metadata": {},
     "output_type": "execute_result"
    },
    {
     "data": {
      "image/png": "[encoded data removed]",
      "text/plain": [
       "<Figure size 432x288 with 1 Axes>"
      ]
     },
     "metadata": {},
     "output_type": "display_data"
    }
   ],
   "source": [
    "df = pandas.DataFrame(data = X_train, columns = [\"fpos\", \"fneg\"])\n",
    "df.plot.kde(xlim = (-0.05, 0.5))"
   ]
  },
  {
   "cell_type": "markdown",
   "metadata": {},
   "source": [
    "Most reviews contain 0 negative words! "
   ]
  },
  {
   "cell_type": "markdown",
   "metadata": {},
   "source": [
    "# Predictor\n",
    "\n",
    "We are using a linear regression model. Later we will use TEnsorflow to train a linear regression model. For now we will use Scikit-learn, which has good implementaions of classical predictors including linear regression. "
   ]
  },
  {
   "cell_type": "code",
   "execution_count": 32,
   "metadata": {},
   "outputs": [
    {
     "name": "stdout",
     "output_type": "stream",
     "text": [
      "The fpos coefficient is 3.1870977382486507\n",
      "The fneg coefficient is -3.466346126246286\n",
      "The intercept is 3.999534520466239\n"
     ]
    }
   ],
   "source": [
    "from sklearn.linear_model import LinearRegression\n",
    "lreg = LinearRegression().fit(X_train, Y_train)\n",
    "\n",
    "print(\"The fpos coefficient is\", lreg.coef_[0])\n",
    "print(\"The fneg coefficient is\", lreg.coef_[1])\n",
    "print(\"The intercept is\", lreg.intercept_)"
   ]
  },
  {
   "cell_type": "markdown",
   "metadata": {},
   "source": [
    "This is a simple linear regression model. The intercept shows that when fpos and fneg are 0, the review will get 4* on average. \n",
    "\n",
    "Test: if we have no positive words and a 20% negative word content, we expect the following rating:"
   ]
  },
  {
   "cell_type": "code",
   "execution_count": 12,
   "metadata": {},
   "outputs": [
    {
     "name": "stdout",
     "output_type": "stream",
     "text": [
      "Expected rating: 3.306265 stars\n"
     ]
    }
   ],
   "source": [
    "features = [[0, 0.2]]\n",
    "expected_rating_A = lreg.predict(features)[0]\n",
    "print(\"Expected rating: %f stars\" % expected_rating_A)"
   ]
  },
  {
   "cell_type": "markdown",
   "metadata": {},
   "source": [
    "# Homework\n",
    "\n",
    "And repeat this for 'apps for Android' section"
   ]
  },
  {
   "cell_type": "code",
   "execution_count": 13,
   "metadata": {},
   "outputs": [
    {
     "name": "stdout",
     "output_type": "stream",
     "text": [
      "Expected rating: 7.186632 stars\n"
     ]
    }
   ],
   "source": [
    "# Expectation for 100% positive words\n",
    "\n",
    "features = [[1, 0]]\n",
    "expected_rating_A = lreg.predict(features)[0]\n",
    "print(\"Expected rating: %f stars\" % expected_rating_A)"
   ]
  },
  {
   "cell_type": "code",
   "execution_count": 14,
   "metadata": {},
   "outputs": [
    {
     "name": "stdout",
     "output_type": "stream",
     "text": [
      "Expected rating: 0.533188 stars\n"
     ]
    }
   ],
   "source": [
    "# Expectation for 100% negative words\n",
    "\n",
    "features = [[0, 1]]\n",
    "expected_rating_A = lreg.predict(features)[0]\n",
    "print(\"Expected rating: %f stars\" % expected_rating_A)"
   ]
  },
  {
   "cell_type": "markdown",
   "metadata": {},
   "source": [
    "That's pretty intense! We should cut off impossible results by setting expectations to between 1* and 5*. "
   ]
  },
  {
   "cell_type": "code",
   "execution_count": 15,
   "metadata": {},
   "outputs": [],
   "source": [
    "def predict_lreg(features):\n",
    "    expected_rating = lreg.predict(features)\n",
    "    expected_rating[expected_rating > 5.0] = 5.0\n",
    "    expected_rating[expected_rating < 1.0] = 1.0\n",
    "    return expected_rating\n",
    "\n",
    "pred_train = predict_lreg(X_train)"
   ]
  },
  {
   "cell_type": "code",
   "execution_count": 16,
   "metadata": {
    "scrolled": true
   },
   "outputs": [
    {
     "name": "stdout",
     "output_type": "stream",
     "text": [
      "Training example number 0\n",
      "True rating = 3.000000 stars, expectation = 4.119043 stars\n",
      "Features = 0.058824 / 0.019608\n",
      "Review text = I purchased the Trilogy with hoping my two cats, age 3 and 5 would be interested.  The 3 yr old cat was fascinated for about 15 minutes but when the same pictures came on, she got bored.  The 5 year old watched for about a few minutes but then walked away. It is possible that because we have a wonderful courtyard full of greenery and trees and one of my neighbors has a bird feeder, that there is enough going on outside that they prefer real life versus a taped version.  I will more than likely pass this on to a friend who has cats that don't have as much wildlife to watch as mine do.\n",
      "\n",
      "Training example number 10000\n",
      "True rating = 5.000000 stars, expectation = 4.381986 stars\n",
      "Features = 0.120000 / 0.000000\n",
      "Review text = Purchased this because our cat keeps destroying the feather toys we attach to our current wand. The fleece piece is a perfect weight and length to get good movement that will excite your cat's hunting instinct. You really can make it \"dance\".\n",
      "\n",
      "Training example number 20000\n",
      "True rating = 2.000000 stars, expectation = 4.163822 stars\n",
      "Features = 0.187500 / 0.125000\n",
      "Review text = This is good cat litter and clumps well, but its just as bad as most other litter dust wise. It also tracks a lot as it sticks to cats paws easily.\n",
      "\n",
      "Training example number 3000\n",
      "True rating = 5.000000 stars, expectation = 4.397922 stars\n",
      "Features = 0.125000 / 0.000000\n",
      "Review text = These pads are for my Penguin filter box. I priced these same pads at the local stores and this is by far the best price around. They came in a nice box for storage.\n",
      "\n",
      "Training example number 5000\n",
      "True rating = 5.000000 stars, expectation = 3.710672 stars\n",
      "Features = 0.000000 / 0.083333\n",
      "Review text = the cage came in record time. putting it together now that was another story.was tricky doing it alone and being 64.but i did it . thanks!!\n",
      "\n"
     ]
    }
   ],
   "source": [
    "def analyse_training_example(i):\n",
    "    print(\"Training example number\", i)\n",
    "    print(\"True rating = %f stars, expectation = %f stars\" % (Y_train[i], pred_train[i]))\n",
    "    print(\"Features = %f / %f\" % (X_train[i,0], X_train[i,1]))\n",
    "    print(\"Review text = %s\" % pet_supplies_train[i][\"reviewText\"])\n",
    "    \n",
    "for i in [0, 10000, 20000, 3000, 5000]:\n",
    "    analyse_training_example(i)\n",
    "    print(\"\")"
   ]
  },
  {
   "cell_type": "code",
   "execution_count": 133,
   "metadata": {},
   "outputs": [
    {
     "name": "stdout",
     "output_type": "stream",
     "text": [
      "The mean absolute error in the training data is 0.875199 stars\n"
     ]
    }
   ],
   "source": [
    "from sklearn.metrics import mean_absolute_error\n",
    "mae_train = mean_absolute_error(pred_train, Y_train)\n",
    "print(\"The mean absolute error in the training data is %f stars\" % mae_train)"
   ]
  },
  {
   "cell_type": "markdown",
   "metadata": {},
   "source": [
    "# Apps for Android prediction"
   ]
  },
  {
   "cell_type": "code",
   "execution_count": 18,
   "metadata": {},
   "outputs": [
    {
     "name": "stdout",
     "output_type": "stream",
     "text": [
      "Dataset Apps_for_Android has already been downloaded to ./data/\n"
     ]
    }
   ],
   "source": [
    "# Downloading a public dataset for Amazon reviews\n",
    "\n",
    "def download_data(dataset_name, datadir):\n",
    "    filename = \"reviews_%s_5.json\" % dataset_name\n",
    "    filepath = os.path.join(datadir, filename)\n",
    "    if os.path.exists(filepath):\n",
    "        print(\"Dataset %s has already been downloaded to %s\" % (dataset_name, datadir))\n",
    "    else:\n",
    "        url = \"http://snap.stanford.edu/data/amazon/productGraph/categoryFiles/%s.gz\" % filename\n",
    "        urllib.request.urlretrieve(url, filepath + \".gz\")\n",
    "        with gzip.open(filepath + \".gz\", \"rb\") as fin:\n",
    "            with open(filepath, \"wb\") as fout:\n",
    "                fout.write(fin.read())\n",
    "        print(\"Downloaded dataset %s and saved it to %s\" % (dataset_name, datadir))\n",
    "        \n",
    "dataset2 = \"Apps_for_Android\"\n",
    "download_data(dataset2, datadir)"
   ]
  },
  {
   "cell_type": "code",
   "execution_count": 19,
   "metadata": {
    "scrolled": true
   },
   "outputs": [
    {
     "name": "stdout",
     "output_type": "stream",
     "text": [
      "Loaded 752937 data for dataset Apps_for_Android\n",
      "{'reviewerID': 'A23IYYG2YBSDQZ', 'asin': 'B004GYY714', 'reviewerName': 'gshsue', 'helpful': [0, 1], 'reviewText': 'its ok but it just is hard to find stations on it and it doesnt have all the stations and its annoying and stupid', 'overall': 2.0, 'summary': 'ok', 'unixReviewTime': 1329609600, 'reviewTime': '02 19, 2012', 'hash': 1022074374}\n"
     ]
    }
   ],
   "source": [
    "# Load data\n",
    "apps_for_android = load_data(dataset2, datadir)\n",
    "\n",
    "# Look at example item\n",
    "print(apps_for_android[9057])"
   ]
  },
  {
   "cell_type": "code",
   "execution_count": 20,
   "metadata": {
    "scrolled": true
   },
   "outputs": [
    {
     "name": "stdout",
     "output_type": "stream",
     "text": [
      "Now there are 451999 examples in the training set 150416 examples in the validation set, and 150522 examples in the test set\n"
     ]
    }
   ],
   "source": [
    "apps_train, apps_valid, apps_test = partition_train_validation_test(apps_for_android)\n",
    "\n",
    "print(\"Now there are\", len(apps_train), \"examples in the training set\", len(apps_valid), \"examples in the validation set, and\", len(apps_test), \"examples in the test set\")"
   ]
  },
  {
   "cell_type": "code",
   "execution_count": 21,
   "metadata": {},
   "outputs": [
    {
     "name": "stdout",
     "output_type": "stream",
     "text": [
      "The fpos coefficient is 3.7916154619931883\n",
      "The fneg coefficient is -3.939633395263729\n",
      "The intercept is 3.5432997477946007\n"
     ]
    }
   ],
   "source": [
    "X_train_apps = dataset_to_matrix(apps_train)\n",
    "Y_train_apps = dataset_to_targets(apps_train)\n",
    "\n",
    "lreg_apps = LinearRegression().fit(X_train_apps, Y_train_apps)\n",
    "\n",
    "print(\"The fpos coefficient is\", lreg_apps.coef_[0])\n",
    "print(\"The fneg coefficient is\", lreg_apps.coef_[1])\n",
    "print(\"The intercept is\", lreg_apps.intercept_)"
   ]
  },
  {
   "cell_type": "code",
   "execution_count": 22,
   "metadata": {},
   "outputs": [
    {
     "name": "stdout",
     "output_type": "stream",
     "text": [
      "Expected rating: 7.334915 stars\n"
     ]
    }
   ],
   "source": [
    "# 100% positive words - expected rating for Android app reviews\n",
    "\n",
    "features = [[1, 0]]\n",
    "expected_rating_A = lreg_apps.predict(features)[0]\n",
    "print(\"Expected rating: %f stars\" % expected_rating_A)"
   ]
  },
  {
   "cell_type": "code",
   "execution_count": 23,
   "metadata": {},
   "outputs": [
    {
     "name": "stdout",
     "output_type": "stream",
     "text": [
      "Expected rating: -0.396334 stars\n"
     ]
    }
   ],
   "source": [
    "# 100% negative words - expected rating for Android app reviews\n",
    "\n",
    "features = [[0, 1]]\n",
    "expected_rating_A = lreg_apps.predict(features)[0]\n",
    "print(\"Expected rating: %f stars\" % expected_rating_A)"
   ]
  },
  {
   "cell_type": "markdown",
   "metadata": {},
   "source": [
    "# Day 2\n",
    "# Classification (not regression)\n",
    "\n",
    "Trying to get a simple binary result (is an email spam or not?). \n",
    "Figure out a variable D_train, where if the customer is dissatisfied, D_train is true. "
   ]
  },
  {
   "cell_type": "code",
   "execution_count": 25,
   "metadata": {},
   "outputs": [
    {
     "name": "stdout",
     "output_type": "stream",
     "text": [
      "The training data contain 21.170037% dissatisfied customers\n",
      "[ True False  True False False False False  True  True False False  True]\n"
     ]
    }
   ],
   "source": [
    "def discretize_targets(Y):\n",
    "    return Y<=3.0\n",
    "\n",
    "D_train = discretize_targets(Y_train)\n",
    "print(\"The training data contain %f%% dissatisfied customers\" % (100.*D_train.mean()))\n",
    "print(D_train[:12])"
   ]
  },
  {
   "cell_type": "markdown",
   "metadata": {},
   "source": [
    "False positive = review wrongly flagged as negative\n",
    "False negative = negative review wrongly let past\n",
    "\n",
    "Often the algorithm is just used to flag reviews for manual checking. "
   ]
  },
  {
   "cell_type": "code",
   "execution_count": 27,
   "metadata": {
    "scrolled": true
   },
   "outputs": [
    {
     "data": {
      "text/plain": [
       "<matplotlib.axes._subplots.AxesSubplot at 0x586fc4f0>"
      ]
     },
     "execution_count": 27,
     "metadata": {},
     "output_type": "execute_result"
    },
    {
     "data": {
      "image/png": "[encoded data removed]",
      "text/plain": [
       "<Figure size 432x288 with 1 Axes>"
      ]
     },
     "metadata": {},
     "output_type": "display_data"
    }
   ],
   "source": [
    "points = numpy.linspace(-6.0, 6.0)\n",
    "logistic_function = pandas.Series(1/(numpy.exp(-points)+1), index=points)\n",
    "logistic_function.plot()"
   ]
  },
  {
   "cell_type": "markdown",
   "metadata": {},
   "source": [
    "predict)proba() produces a two-column matrix. First column contains probability for D_train being false; second for D_train being true. \n",
    "\n",
    "The second column is selected with [:,1]. \n",
    "(The second row would be selected with [1,:]. "
   ]
  },
  {
   "cell_type": "code",
   "execution_count": 43,
   "metadata": {},
   "outputs": [
    {
     "name": "stdout",
     "output_type": "stream",
     "text": [
      "Training example number 79\n",
      "True rating = 5.000000 stars\n",
      "Expected to be dissatisfied: False\n",
      "Expected probability of being dissatisfied : 0.000070\n",
      "Features = 1.000000 / 0.000000\n",
      "Review text = I love waking up each day to a bible verse.  You have the opportunity to save verses creating a type of \"favorite list.\". You can look up verses in full context and in different Bible versions.  There are other features, and the app works great on any phone I've ever had.\n"
     ]
    }
   ],
   "source": [
    "from sklearn.linear_model import LogisticRegression\n",
    "logreg = LogisticRegression().fit(X_train, D_train)\n",
    "\n",
    "prob2_train = logreg.predict_proba(X_train)[:,1]\n",
    "pred2_train = prob2_train > 0.5\n",
    "\n",
    "# If probability negative is > 0.5 we will flag it as a dissatisfied review\n",
    "\n",
    "max_prob2 = numpy.argmax(prob2_train)\n",
    "min_prob2 = numpy.argmin(prob2_train)\n",
    "\n",
    "def analyse_training_example_2(i):\n",
    "    print(\"Training example number\", i)\n",
    "    print(\"True rating = %f stars\" % Y_train[i])\n",
    "    print(\"Expected to be dissatisfied:\", pred2_train[i])\n",
    "    print(\"Expected probability of being dissatisfied : %f\" % prob2_train[i])\n",
    "    print(\"Features = %f / %f\" % (X_train[i,0], X_train[i,1]))\n",
    "    print(\"Review text = %s\" % apps_train[i]['reviewText'])\n",
    "    \n",
    "analyse_training_example_2(min_prob2)"
   ]
  },
  {
   "cell_type": "code",
   "execution_count": 44,
   "metadata": {},
   "outputs": [
    {
     "name": "stdout",
     "output_type": "stream",
     "text": [
      "Training example number 14242\n",
      "True rating = 2.000000 stars\n",
      "Expected to be dissatisfied: True\n",
      "Expected probability of being dissatisfied : 0.992437\n",
      "Features = 0.000000 / 1.000000\n",
      "Review text = Enjoy Sudoku Daily  by Jason Linhart works better than the newspaper versions. I especially like the way the hint works in two stages when I am stuck.\n"
     ]
    }
   ],
   "source": [
    "analyse_training_example_2(max_prob2)"
   ]
  },
  {
   "cell_type": "code",
   "execution_count": 47,
   "metadata": {
    "scrolled": false
   },
   "outputs": [
    {
     "name": "stdout",
     "output_type": "stream",
     "text": [
      "Training example number 1009\n",
      "True rating = 1.000000 stars\n",
      "Expected to be dissatisfied: False\n",
      "Expected probability of being dissatisfied : 0.383099\n",
      "Features = 0.034803 / 0.083527\n",
      "Review text = I've used Kindle for books and magazines and it is, to me, a preferred system.very easy to use. It also has a quick connection to the store to make purchases.Guess I can't say enough about Kindle. It is an excellent reader.\n"
     ]
    }
   ],
   "source": [
    "analyse_training_example_2(1009)"
   ]
  },
  {
   "cell_type": "markdown",
   "metadata": {},
   "source": [
    "Conclusion: people sometimes fail to understand the pretty simple concept of star ratings. "
   ]
  },
  {
   "cell_type": "markdown",
   "metadata": {},
   "source": [
    "Precision is % relevant instances among retrieved instances. ie: % of true positives among all positives\n",
    "Sensitivity is % relevant instances that were retrieved out of total relevant instances. ie: % true positives out of (true positives + false negatives)\n",
    "\n",
    "Sensitivity is also known as \"recall\""
   ]
  },
  {
   "cell_type": "code",
   "execution_count": 48,
   "metadata": {
    "scrolled": true
   },
   "outputs": [
    {
     "name": "stdout",
     "output_type": "stream",
     "text": [
      "For threshold 0.5, we get precision 0.586075 and recall 0.038127\n"
     ]
    }
   ],
   "source": [
    "from sklearn.metrics import precision_score, recall_score\n",
    "precision2 = precision_score(D_train, pred2_train)\n",
    "recall2 = recall_score(D_train, pred2_train)\n",
    "print(\"For threshold 0.5, we get precision %f \"\n",
    "     \"and recall %f\" % (precision2, recall2))"
   ]
  },
  {
   "cell_type": "markdown",
   "metadata": {},
   "source": [
    "We only found 4% of the dissatisfied people..."
   ]
  },
  {
   "cell_type": "markdown",
   "metadata": {},
   "source": [
    "# Homework"
   ]
  },
  {
   "cell_type": "code",
   "execution_count": 50,
   "metadata": {},
   "outputs": [
    {
     "name": "stdout",
     "output_type": "stream",
     "text": [
      "For threshold 0.2, we get precision 0.297674 and recall 0.730028\n"
     ]
    }
   ],
   "source": [
    "# Change the threshold for negative reviews to 0.2 and rerun\n",
    "\n",
    "pred2_train = prob2_train > 0.2\n",
    "\n",
    "precision2 = precision_score(D_train, pred2_train)\n",
    "recall2 = recall_score(D_train, pred2_train)\n",
    "\n",
    "print(\"For threshold 0.2, we get precision %f \"\n",
    "     \"and recall %f\" % (precision2, recall2))"
   ]
  },
  {
   "cell_type": "markdown",
   "metadata": {},
   "source": [
    "We found 73% of the dissatisfied people!"
   ]
  },
  {
   "cell_type": "code",
   "execution_count": 57,
   "metadata": {},
   "outputs": [
    {
     "name": "stdout",
     "output_type": "stream",
     "text": [
      "Precision as function of threshold: \n"
     ]
    },
    {
     "data": {
      "text/plain": [
       "<matplotlib.axes._subplots.AxesSubplot at 0x5738f5d0>"
      ]
     },
     "execution_count": 57,
     "metadata": {},
     "output_type": "execute_result"
    },
    {
     "data": {
      "image/png": "[encoded data removed]",
      "text/plain": [
       "<Figure size 432x288 with 1 Axes>"
      ]
     },
     "metadata": {},
     "output_type": "display_data"
    }
   ],
   "source": [
    "from sklearn.metrics import precision_recall_curve\n",
    "all_precision2, all_recall2, all_thresh2 = precision_recall_curve(\n",
    "    D_train, prob2_train)\n",
    "print(\"Precision as function of threshold: \")\n",
    "pandas.Series(all_precision2[:-1], index = all_thresh2).plot()"
   ]
  },
  {
   "cell_type": "code",
   "execution_count": 59,
   "metadata": {},
   "outputs": [
    {
     "name": "stdout",
     "output_type": "stream",
     "text": [
      "Recall as function of threshold: \n"
     ]
    },
    {
     "data": {
      "text/plain": [
       "<matplotlib.axes._subplots.AxesSubplot at 0x55d5a230>"
      ]
     },
     "execution_count": 59,
     "metadata": {},
     "output_type": "execute_result"
    },
    {
     "data": {
      "image/png": "[encoded data removed]",
      "text/plain": [
       "<Figure size 432x288 with 1 Axes>"
      ]
     },
     "metadata": {},
     "output_type": "display_data"
    }
   ],
   "source": [
    "print(\"Recall as function of threshold: \")\n",
    "pandas.Series(all_recall2[:-1], index = all_thresh2).plot()"
   ]
  },
  {
   "cell_type": "raw",
   "metadata": {},
   "source": [
    "print(\"Recall as \\\"function\\\" of precision: \")\n",
    "pandas.Series(all_recall2[:-1], index = all_precision2[:-1]).plot()"
   ]
  },
  {
   "cell_type": "code",
   "execution_count": 65,
   "metadata": {},
   "outputs": [
    {
     "name": "stdout",
     "output_type": "stream",
     "text": [
      "With the new model, precision is 0.428472 and recall is 0.092131\n"
     ]
    },
    {
     "data": {
      "text/plain": [
       "<matplotlib.axes._subplots.AxesSubplot at 0x567bbe30>"
      ]
     },
     "execution_count": 65,
     "metadata": {},
     "output_type": "execute_result"
    },
    {
     "data": {
      "image/png": "[encoded data removed]",
      "text/plain": [
       "<Figure size 432x288 with 1 Axes>"
      ]
     },
     "metadata": {},
     "output_type": "display_data"
    }
   ],
   "source": [
    "from sklearn.naive_bayes import GaussianNB, BernoulliNB\n",
    "nb = GaussianNB().fit(X_train, D_train)\n",
    "prob3_train = nb.predict_proba(X_train)[:,1]\n",
    "pred3_train = prob3_train > 0.5\n",
    "precision3 = precision_score(D_train, pred3_train)\n",
    "recall3 = recall_score(D_train, pred3_train)\n",
    "print(\"With the new model, precision is %f and recall is %f\" % (precision3, recall3))\n",
    "all_precision3, all_recall3, all_thresh3 = precision_recall_curve(D_train, prob3_train)\n",
    "\n",
    "pandas.Series(all_recall3[:-1], index = all_precision3[:-1]).plot()"
   ]
  },
  {
   "cell_type": "markdown",
   "metadata": {},
   "source": [
    "At the 0.5 threshold, it's not much better than earlier. This is an underlying feature of the dataset. Ideally, we'd like the curve to look like the upper right quadrant arc of a circle."
   ]
  },
  {
   "cell_type": "markdown",
   "metadata": {},
   "source": [
    "# TensorFlow\n",
    "Linear regression\n",
    "Okay this bit isn't going to work for me so I'ma skip it"
   ]
  },
  {
   "cell_type": "markdown",
   "metadata": {},
   "source": [
    "# NLTK built-in sentiment analyser"
   ]
  },
  {
   "cell_type": "code",
   "execution_count": 84,
   "metadata": {},
   "outputs": [
    {
     "name": "stdout",
     "output_type": "stream",
     "text": [
      "Sentence = This product wasn't bad.\n",
      "['this', 'product', 'was', \"n't\", 'bad_NEG', '.']\n",
      "Sentence = This is not a bad product.\n",
      "['this', 'is', 'not', 'a_NEG', 'bad_NEG', 'product_NEG', '.']\n",
      "Sentence = This product was bad.\n",
      "['this', 'product', 'was', 'bad', '.']\n",
      "Sentence = This is a bad product.\n",
      "['this', 'is', 'a', 'bad', 'product', '.']\n",
      "No matter what kind of music I want to listen to, its there! I even get a guided meditations anytime I want! Its unlimited!\n",
      "['matter_NEG', 'kind_NEG', 'music_NEG', 'want_NEG', 'listen_NEG', 'even', 'get', 'guided', 'meditations', 'anytime', 'want', 'unlimited']\n"
     ]
    }
   ],
   "source": [
    "from nltk.sentiment import SentimentAnalyzer\n",
    "from nltk.sentiment.util import mark_negation\n",
    "examples_negation = [\"This product wasn't bad.\",\n",
    "                     \"This is not a bad product.\",\n",
    "                     \"This product was bad.\",\n",
    "                     \"This is a bad product.\"]\n",
    "\n",
    "for sentence in examples_negation:\n",
    "    tokens_with_negation = mark_negation(word_tokenize(sentence.lower()))\n",
    "    print(\"Sentence =\", sentence)\n",
    "    print(tokens_with_negation)\n",
    "\n",
    "negated_stopwords = set(word + \"_NEG\" for word in eng_stopwords)\n",
    "all_stopwords = eng_stopwords.union(negated_stopwords)\n",
    "    \n",
    "def tokenize_with_negation(text):\n",
    "    # split text into lower-case tokens, removing all-punctuation tokens and stopwords\n",
    "    tokens = []\n",
    "    for sentence in sent_tokenize(text):\n",
    "        pretokens = word_tokenize(sentence.lower())\n",
    "        pretokens = [x for x in pretokens if any(i.isalpha() for i in x)]\n",
    "        pretokens = mark_negation(pretokens)\n",
    "        tokens.extend(x for x in pretokens if x not in all_stopwords)\n",
    "    return tokens\n",
    "\n",
    "print(apps_train[31]['reviewText'])\n",
    "print(tokenize_with_negation(apps_train[31]['reviewText']))"
   ]
  },
  {
   "cell_type": "code",
   "execution_count": 86,
   "metadata": {},
   "outputs": [
    {
     "name": "stdout",
     "output_type": "stream",
     "text": [
      "(0.8571428571428571, 0.0)\n",
      "(0.0, 0.8571428571428571)\n"
     ]
    }
   ],
   "source": [
    "all_pos_words = positive_words.union({x + \"_NEG\" for x in negative_words})\n",
    "all_neg_words = negative_words.union({x + \"_NEG\" for x in positive_words})\n",
    "\n",
    "def pos_neg_fraction_with_negation(text):\n",
    "    tokens = tokenize_with_negation(text)\n",
    "    count_pos, count_neg = 0, 0\n",
    "    for t in tokens:\n",
    "        if t in all_pos_words:\n",
    "            count_pos += 1\n",
    "        if t in all_neg_words:\n",
    "            count_neg += 1\n",
    "    count_all = len(tokens)\n",
    "    if count_all != 0:\n",
    "        return count_pos/count_all, count_neg/count_all\n",
    "    else:\n",
    "        return 0., 0.\n",
    "\n",
    "print(pos_neg_fraction_with_negation(pos_example))\n",
    "print(pos_neg_fraction_with_negation(neg_example))"
   ]
  },
  {
   "cell_type": "code",
   "execution_count": 87,
   "metadata": {},
   "outputs": [
    {
     "name": "stdout",
     "output_type": "stream",
     "text": [
      "(0.0, 0.8571428571428571)\n",
      "(0.8571428571428571, 0.0)\n"
     ]
    }
   ],
   "source": [
    "pos_example_neg = \"This is not a good, great, fantastic, amazing, wonderful, super app!!!\"\n",
    "neg_example_neg = \"This is not a bad, atrocious, terrible, dreadful, awful, abysmal app!!!\"\n",
    "\n",
    "print(pos_neg_fraction_with_negation(pos_example_neg))\n",
    "print(pos_neg_fraction_with_negation(neg_example_neg))"
   ]
  },
  {
   "cell_type": "code",
   "execution_count": 95,
   "metadata": {},
   "outputs": [
    {
     "name": "stdout",
     "output_type": "stream",
     "text": [
      "Now the mean absolute error on the training data is 0.862884 stars\n"
     ]
    }
   ],
   "source": [
    "def dataset_to_matrix_with_neg(data):\n",
    "    return numpy.array([list(pos_neg_fraction_with_negation(item[\"reviewText\"])) for item in data])\n",
    "\n",
    "X_train_neg = dataset_to_matrix_with_neg(pet_supplies_train)\n",
    "\n",
    "lreg_neg = LinearRegression().fit(X_train_neg, Y_train)\n",
    "pred_train_neg = lreg_neg.predict(X_train_neg)\n",
    "mae_train_with_neg = mean_absolute_error(pred_train_neg, Y_train)\n",
    "print(\"Now the mean absolute error on the training data is %f stars\" % mae_train_with_neg)"
   ]
  },
  {
   "cell_type": "markdown",
   "metadata": {},
   "source": [
    "# Random forest\n",
    "Woop woop"
   ]
  },
  {
   "cell_type": "code",
   "execution_count": 97,
   "metadata": {},
   "outputs": [
    {
     "name": "stdout",
     "output_type": "stream",
     "text": [
      "A non-linear regressor achieves a MAE of 0.767418 stars\n"
     ]
    }
   ],
   "source": [
    "from sklearn.ensemble import RandomForestRegressor\n",
    "rf_neg = RandomForestRegressor().fit(X_train_neg, Y_train)\n",
    "pred_train_rf_neg = rf_neg.predict(X_train_neg)\n",
    "mae_train_rf_neg = mean_absolute_error(pred_train_rf_neg, Y_train)\n",
    "\n",
    "print(\"A non-linear regressor achieves a MAE of %f stars\" % mae_train_rf_neg)"
   ]
  },
  {
   "cell_type": "markdown",
   "metadata": {},
   "source": [
    "# Short-List Promising Models\n",
    "Notes:\n",
    "\n",
    "If the data is huge, you may want to sample smaller training sets so you can train many different models in a reasonable time (be aware that this penalizes complex models such as large neural nets or Random Forests). Once again, try to automate these steps as much as possible.\n",
    "\n",
    "Train many quick and dirty models from different categories (e.g., linear, naive Bayes, SVM, Random Forests, neural net, etc.) using standard parameters.\n",
    "Measure and compare their performance. For each model, use N-fold cross-validation and compute the mean and standard deviation of the performance measure on the N folds.\n",
    "Analyze the most significant variables for each algorithm.\n",
    "Analyze the types of errors the models make. What data would a human have used to avoid these errors?\n",
    "Have a quick round of feature selection and engineering.\n",
    "Have one or two more quick iterations of the five previous steps.\n",
    "Short-list the top three to five most promising models, preferring models that make different types of errors."
   ]
  },
  {
   "cell_type": "markdown",
   "metadata": {},
   "source": [
    "# Day 3"
   ]
  },
  {
   "cell_type": "code",
   "execution_count": 107,
   "metadata": {},
   "outputs": [
    {
     "name": "stdout",
     "output_type": "stream",
     "text": [
      "This just arrived today and a huge hit but with a caveat...This 2nd version, made of sturdy foam, replaces an earlier version that I believe was made of wood. I would like to add my 2 cents after watching my cats have a ball with this new toy today...I would encourage the company to replace the foam mice with plastic to avoid claws getting stuck in the mice.One of my cats is big & plays rough -  as she did/is doing with this toy. Several times since it's arrival today, she's managed to get a toe claw stuck in one of the mice & because the house is lightweight she had difficulty getting her claw unstuck so the house moved with her & twisted her toe. Once unstuck, she licked her toe for a few minutes so I assume she hurt herself in the process of getting unstuck. Not good, but didn't stop her from going back for more! It's a huge hit other than the foam mice!Some will say clip her claws, but we've never had to do that as have scratching trees & posts all over the house & in 4 years since since adopting them, our cats have never caught their claws on anything. Besides, I'm not even sure clipping claws would prevent them from getting stuck into the foam mice...Replacement with smooth plastic for just the mice would be ideal imho..Other than the claw issue, this toy is 5-star genius!\n"
     ]
    }
   ],
   "source": [
    "print(pet_supplies_train[65000][\"reviewText\"])"
   ]
  },
  {
   "cell_type": "code",
   "execution_count": 135,
   "metadata": {
    "scrolled": true
   },
   "outputs": [
    {
     "name": "stdout",
     "output_type": "stream",
     "text": [
      "This just arrived today and a huge hit but with a caveat...This 2nd version, made of sturdy foam, replaces an earlier version that I believe was made of wood.\n",
      "{'neg': 0.0, 'neu': 0.938, 'pos': 0.062, 'compound': 0.1655}\n",
      "\n",
      "I would like to add my 2 cents after watching my cats have a ball with this new toy today...I would encourage the company to replace the foam mice with plastic to avoid claws getting stuck in the mice.One of my cats is big & plays rough -  as she did/is doing with this toy.\n",
      "{'neg': 0.074, 'neu': 0.789, 'pos': 0.137, 'compound': 0.5574}\n",
      "\n",
      "Several times since it's arrival today, she's managed to get a toe claw stuck in one of the mice & because the house is lightweight she had difficulty getting her claw unstuck so the house moved with her & twisted her toe.\n",
      "{'neg': 0.106, 'neu': 0.894, 'pos': 0.0, 'compound': -0.5267}\n",
      "\n",
      "Once unstuck, she licked her toe for a few minutes so I assume she hurt herself in the process of getting unstuck.\n",
      "{'neg': 0.162, 'neu': 0.838, 'pos': 0.0, 'compound': -0.5667}\n",
      "\n",
      "Not good, but didn't stop her from going back for more!\n",
      "{'neg': 0.128, 'neu': 0.675, 'pos': 0.197, 'compound': 0.2313}\n",
      "\n",
      "It's a huge hit other than the foam mice!Some will say clip her claws, but we've never had to do that as have scratching trees & posts all over the house & in 4 years since since adopting them, our cats have never caught their claws on anything.\n",
      "{'neg': 0.0, 'neu': 0.957, 'pos': 0.043, 'compound': 0.2363}\n",
      "\n",
      "Besides, I'm not even sure clipping claws would prevent them from getting stuck into the foam mice...Replacement with smooth plastic for just the mice would be ideal imho..Other than the claw issue, this toy is 5-star genius!\n",
      "{'neg': 0.095, 'neu': 0.79, 'pos': 0.115, 'compound': 0.2095}\n",
      "\n"
     ]
    }
   ],
   "source": [
    "from nltk.sentiment.vader import SentimentIntensityAnalyzer\n",
    "sia = SentimentIntensityAnalyzer()\n",
    "text = pet_supplies_train[65000][\"reviewText\"]\n",
    "for s in sent_tokenize(text):\n",
    "    print(s)\n",
    "    print(sia.polarity_scores(s))\n",
    "    print(\"\")"
   ]
  },
  {
   "cell_type": "markdown",
   "metadata": {},
   "source": [
    "For each review text, extract: \n",
    "1) mean positive sentiment over all sentences\n",
    "2) mean netural sentiment OAS\n",
    "3) mean negative sentiment OAS\n",
    "4) maximum positive sentiment OAS\n",
    "5) maximum neutral sentiment OAS\n",
    "6) maximum negative sentiment OAS"
   ]
  },
  {
   "cell_type": "code",
   "execution_count": 114,
   "metadata": {},
   "outputs": [],
   "source": [
    "def sia_features(dataset):\n",
    "    feat_matrix = numpy.empty((len(dataset), 6))\n",
    "    for i in range(len(dataset)):\n",
    "        sentences = sent_tokenize(dataset[i][\"reviewText\"])\n",
    "        nsent = len(sentences)\n",
    "        if nsent:\n",
    "            sentence_polarities = numpy.empty((nsent, 3))\n",
    "            for j in range(nsent):\n",
    "                polarity = sia.polarity_scores(sentences[j])\n",
    "                sentence_polarities[j, 0] = polarity[\"pos\"]\n",
    "                sentence_polarities[j, 1] = polarity[\"neu\"]\n",
    "                sentence_polarities[j, 2] = polarity[\"neg\"]\n",
    "            feat_matrix[i, 0:3] = numpy.mean(sentence_polarities, axis = 0)   # mean over the columns\n",
    "            feat_matrix[i, 3:6] = numpy.max(sentence_polarities, axis = 0)   # max over the columns\n",
    "        else: \n",
    "            feat_matrix[i, 0:6] = 0.\n",
    "    return feat_matrix\n",
    "\n",
    "sia_tr = sia_features(pet_supplies_train)"
   ]
  },
  {
   "cell_type": "markdown",
   "metadata": {},
   "source": [
    "The 'if' clause above is necessary to avoid zero-length reviews"
   ]
  },
  {
   "cell_type": "code",
   "execution_count": 116,
   "metadata": {},
   "outputs": [
    {
     "name": "stdout",
     "output_type": "stream",
     "text": [
      "[[ 0.  1.  2.  3.]\n",
      " [ 4.  5.  6.  7.]\n",
      " [ 8.  9. 10. 11.]]\n",
      "[ 8.  9. 10. 11.]\n",
      "[1.5 5.5 9.5]\n"
     ]
    }
   ],
   "source": [
    "testmat = numpy.arange(12.).reshape((3, 4))\n",
    "print(testmat)\n",
    "print(numpy.max(testmat, axis = 0))\n",
    "print(numpy.mean(testmat, axis = 1))"
   ]
  },
  {
   "cell_type": "code",
   "execution_count": 117,
   "metadata": {},
   "outputs": [
    {
     "name": "stdout",
     "output_type": "stream",
     "text": [
      "(94903, 2) (94903, 6) (94903, 2)\n"
     ]
    }
   ],
   "source": [
    "# Add review length (truncate to 2500 characters)\n",
    "# Add % of exclamation marks for sentiment intensity\n",
    "\n",
    "def len_features(dataset):\n",
    "    feat_matrix = numpy.empty((len(dataset), 2))\n",
    "    for i in range(len(dataset)):\n",
    "        text = dataset[i][\"reviewText\"]\n",
    "        feat_matrix[i, 0] = len(text) / 1000.\n",
    "        if text:\n",
    "            feat_matrix[i, 1] = 100. * text.count(\"!\") / len(text)\n",
    "        else:\n",
    "            feat_matrix[i, 1] = 0.\n",
    "    feat_matrix[feat_matrix > 2.5] = 2.5\n",
    "    return feat_matrix\n",
    "\n",
    "len_tr = len_features(pet_supplies_train)\n",
    "\n",
    "print(X_train_neg.shape, sia_tr.shape, len_tr.shape)"
   ]
  },
  {
   "cell_type": "code",
   "execution_count": 118,
   "metadata": {},
   "outputs": [
    {
     "name": "stdout",
     "output_type": "stream",
     "text": [
      "Now the MAE on the training data is 0.811463 stars\n"
     ]
    }
   ],
   "source": [
    "X_train_augmented = numpy.concatenate((X_train_neg, sia_tr, len_tr), axis = 1) #stack horizontally\n",
    "lreg_augmented = LinearRegression().fit(X_train_augmented, Y_train)\n",
    "pred_train_augmented = lreg_augmented.predict(X_train_augmented)\n",
    "mae_train_augmented = mean_absolute_error(pred_train_augmented, Y_train)\n",
    "print(\"Now the MAE on the training data is %f stars\" % mae_train_augmented)"
   ]
  },
  {
   "cell_type": "code",
   "execution_count": 122,
   "metadata": {},
   "outputs": [
    {
     "name": "stdout",
     "output_type": "stream",
     "text": [
      "For the random forest, the MAE on the training data is 0.309887 stars\n"
     ]
    }
   ],
   "source": [
    "rf_augmented = RandomForestRegressor().fit(X_train_augmented, Y_train)\n",
    "rfpred_train_augmented = rf_augmented.predict(X_train_augmented)\n",
    "mae_train_rf_augmented = mean_absolute_error(rfpred_train_augmented, Y_train)\n",
    "print(\"For the random forest, the MAE on the training data is %f stars\" % mae_train_rf_augmented)"
   ]
  },
  {
   "cell_type": "code",
   "execution_count": 129,
   "metadata": {},
   "outputs": [
    {
     "name": "stdout",
     "output_type": "stream",
     "text": [
      "done\n"
     ]
    }
   ],
   "source": [
    "X_valid_neg = dataset_to_matrix_with_neg(pet_supplies_valid)\n",
    "sia_valid = sia_features(pet_supplies_valid)\n",
    "len_valid = len_features(pet_supplies_valid)\n",
    "X_valid_augmented = numpy.concatenate((X_valid_neg, sia_valid, len_valid), axis = 1)\n",
    "pred_valid_augmented = lreg_augmented.predict(X_valid_augmented)\n",
    "pred_valid_rf_augmented = rf_augmented.predict(X_valid_augmented)\n",
    "\n",
    "print(\"done\")"
   ]
  },
  {
   "cell_type": "code",
   "execution_count": 136,
   "metadata": {},
   "outputs": [
    {
     "name": "stdout",
     "output_type": "stream",
     "text": [
      "done\n"
     ]
    }
   ],
   "source": [
    "Y_valid = dataset_to_targets(pet_supplies_valid)\n",
    "\n",
    "print(\"done\")"
   ]
  },
  {
   "cell_type": "code",
   "execution_count": 132,
   "metadata": {
    "scrolled": true
   },
   "outputs": [
    {
     "name": "stdout",
     "output_type": "stream",
     "text": [
      "On the validation set, we get 0.809588 error for the linear regression\n",
      "And 0.802078 for the random forest regression\n"
     ]
    }
   ],
   "source": [
    "mae_valid_augmented = mean_absolute_error(pred_valid_augmented, Y_valid)\n",
    "print(\"On the validation set, we get %f error for the linear regression\" % mae_valid_augmented)\n",
    "\n",
    "mae_valid_rf_augmented = mean_absolute_error(pred_valid_rf_augmented, Y_valid)\n",
    "print(\"And %f for the random forest regression\" % mae_valid_rf_augmented)"
   ]
  },
  {
   "cell_type": "markdown",
   "metadata": {},
   "source": [
    "# Homework - refactoring\n",
    "\n",
    "# Single function for all success metrics"
   ]
  },
  {
   "cell_type": "code",
   "execution_count": 153,
   "metadata": {},
   "outputs": [
    {
     "name": "stdout",
     "output_type": "stream",
     "text": [
      "Now the MAE on the training data is 0.811463 stars\n"
     ]
    }
   ],
   "source": [
    "# def mae_method(augmented_data):\n",
    "#     return mean_absolute_error(augmented_data, Y_train)\n",
    "\n",
    "# def mae_valid(augmented_data):\n",
    "#     return mean_absolute_error(augmented_data, Y_valid)\n",
    "\n",
    "# X_train_augmented = numpy.concatenate((X_train_neg, sia_tr, len_tr), axis = 1) #stack horizontally\n",
    "# lreg_augmented = LinearRegression().fit(X_train_augmented, Y_train)\n",
    "# pred_train_augmented = lreg_augmented.predict(X_train_augmented)\n",
    "# mae_train_augmented = mae_method(pred_train_augmented)\n",
    "# print(\"Now the MAE on the training data is %f stars\" % mae_train_augmented)"
   ]
  },
  {
   "cell_type": "code",
   "execution_count": 148,
   "metadata": {},
   "outputs": [
    {
     "name": "stdout",
     "output_type": "stream",
     "text": [
      "For the random forest, the MAE on the training data is 0.309610 stars\n"
     ]
    }
   ],
   "source": [
    "# rf_augmented = RandomForestRegressor().fit(X_train_augmented, Y_train)\n",
    "# rfpred_train_augmented = rf_augmented.predict(X_train_augmented)\n",
    "# mae_train_rf_augmented = mae_method(rfpred_train_augmented)\n",
    "# print(\"For the random forest, the MAE on the training data is %f stars\" % mae_train_rf_augmented)"
   ]
  },
  {
   "cell_type": "code",
   "execution_count": 161,
   "metadata": {
    "scrolled": true
   },
   "outputs": [
    {
     "name": "stdout",
     "output_type": "stream",
     "text": [
      "Now the MAE on the training data is 0.811463 stars\n",
      "On the validation set, we get 0.808628 stars' error for the linear regression\n"
     ]
    }
   ],
   "source": [
    "# def lr_metrics(dataset, Y_dataset):\n",
    "#     sia_dataset = sia_features(dataset)\n",
    "#     len_dataset = len_features(dataset)\n",
    "#     X_dataset_neg = dataset_to_matrix_with_neg(dataset)\n",
    "    \n",
    "#     X_dataset_aug = numpy.concatenate((X_dataset_neg, sia_dataset, len_dataset), axis = 1)\n",
    "#     lreg_dataset_aug = LinearRegression().fit(X_dataset_aug, Y_dataset)\n",
    "#     pred_dataset_aug = lreg_dataset_aug.predict(X_dataset_aug)\n",
    "    \n",
    "#     mae_lr = mean_absolute_error(pred_dataset_aug, Y_dataset)\n",
    "    \n",
    "#     return mae_lr\n",
    "\n",
    "# train_lr_metrics = lr_metrics(pet_supplies_train, Y_train)\n",
    "# valid_lr_metrics = lr_metrics(pet_supplies_valid, Y_valid)\n",
    "\n",
    "# print(\"Now the MAE on the training data is %f stars\" % train_lr_metrics)\n",
    "# print(\"On the validation set, we get %f stars' error for the linear regression\" % valid_lr_metrics)"
   ]
  },
  {
   "cell_type": "code",
   "execution_count": 173,
   "metadata": {},
   "outputs": [
    {
     "name": "stdout",
     "output_type": "stream",
     "text": [
      "Now the MAE on the training data is 0.811463 stars\n",
      "On the validation set, we get 0.808628 stars' error for the linear regression\n",
      "\n",
      "On the validation set, we get 0.809588 error for the linear regression\n",
      "And 0.801529 for the random forest regression\n"
     ]
    }
   ],
   "source": [
    "def metrics(dataset):\n",
    "    sia_dataset = sia_features(dataset)\n",
    "    len_dataset = len_features(dataset)\n",
    "    X_dataset_neg = dataset_to_matrix_with_neg(dataset)\n",
    "    Y_dataset = dataset_to_targets(dataset)\n",
    "    \n",
    "    X_dataset_aug = numpy.concatenate((X_dataset_neg, sia_dataset, len_dataset), axis = 1)\n",
    "    lreg_dataset_aug = LinearRegression().fit(X_dataset_aug, Y_dataset)\n",
    "    pred_dataset_aug = lreg_dataset_aug.predict(X_dataset_aug)\n",
    "    \n",
    "    mae_lr = mean_absolute_error(pred_dataset_aug, Y_dataset)\n",
    "    \n",
    "    rf_dataset_aug = RandomForestRegressor().fit(X_dataset_aug, Y_dataset)\n",
    "    pred_dataset_rf_aug = rf_dataset_aug.predict(X_dataset_aug)\n",
    "    \n",
    "    mae_rf = mean_absolute_error(pred_dataset_rf_aug, Y_dataset)\n",
    "    \n",
    "    return mae_lr, mae_rf\n",
    "\n",
    "train_lr_metrics = metrics(pet_supplies_train)[0]\n",
    "train_rf_metrics = metrics(pet_supplies_train)[1]\n",
    "\n",
    "valid_lr_metrics = metrics(pet_supplies_valid)[0]\n",
    "valid_rf_metrics = metrics(pet_supplies_valid)[1]\n",
    "\n",
    "print(\"Now the MAE on the training data is %f stars\" % train_lr_metrics)\n",
    "print(\"On the validation set, we get %f stars' error for the linear regression\" % valid_lr_metrics)\n",
    "print(\"\")\n",
    "print(\"On the validation set, we get %f error for the linear regression\" % mae_valid_augmented)\n",
    "print(\"And %f for the random forest regression\" % mae_valid_rf_augmented)"
   ]
  }
 ],
 "metadata": {
  "kernelspec": {
   "display_name": "Python 3",
   "language": "python",
   "name": "python3"
  },
  "language_info": {
   "codemirror_mode": {
    "name": "ipython",
    "version": 3
   },
   "file_extension": ".py",
   "mimetype": "text/x-python",
   "name": "python",
   "nbconvert_exporter": "python",
   "pygments_lexer": "ipython3",
   "version": "3.7.0"
  }
 },
 "nbformat": 4,
 "nbformat_minor": 2
}
