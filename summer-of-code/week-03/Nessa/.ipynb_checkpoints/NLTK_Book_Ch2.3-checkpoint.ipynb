{
 "cells": [
  {
   "cell_type": "code",
   "execution_count": 61,
   "metadata": {},
   "outputs": [
    {
     "name": "stdout",
     "output_type": "stream",
     "text": [
      "Pretty printing has been turned OFF\n"
     ]
    }
   ],
   "source": [
    "%matplotlib inline\n",
    "%pprint\n",
    "import nltk, matplotlib, re\n",
    "from nltk.corpus import wordnet as wn\n",
    "from nltk.corpus import brown, stopwords, udhr"
   ]
  },
  {
   "cell_type": "code",
   "execution_count": 62,
   "metadata": {},
   "outputs": [
    {
     "data": {
      "text/plain": [
       "192644"
      ]
     },
     "execution_count": 62,
     "metadata": {},
     "output_type": "execute_result"
    }
   ],
   "source": [
    "genre_word = [(genre, word)\n",
    "             for genre in [\"hobbies\", \"lore\"]\n",
    "             for word in brown.words(categories=genre)]\n",
    "len(genre_word)"
   ]
  },
  {
   "cell_type": "code",
   "execution_count": 6,
   "metadata": {},
   "outputs": [
    {
     "data": {
      "text/plain": [
       "[('hobbies', 'Too'), ('hobbies', 'often'), ('hobbies', 'a'), ('hobbies', 'beginning'), ('hobbies', 'bodybuilder'), ('hobbies', 'has'), ('hobbies', 'to'), ('hobbies', 'do'), ('hobbies', 'his'), ('hobbies', 'training'), ('hobbies', 'secretly'), ('hobbies', 'either')]"
      ]
     },
     "execution_count": 6,
     "metadata": {},
     "output_type": "execute_result"
    }
   ],
   "source": [
    "genre_word[:12]"
   ]
  },
  {
   "cell_type": "code",
   "execution_count": 64,
   "metadata": {},
   "outputs": [
    {
     "name": "stdout",
     "output_type": "stream",
     "text": [
      "                         0    1    2    3    4    5    6    7    8    9   10   11 \n",
      "              English    0  185  525  883  997 1166 1283 1440 1558 1638 1701 1751 \n",
      "Greenlandic_Inuktikut    0  139  150  151  154  175  182  241  259  283  306  344 \n"
     ]
    }
   ],
   "source": [
    "# Number of letters per word plotted for 2 languages\n",
    "\n",
    "languages = [\"English\", \"German_Deutsch\", \"Greenlandic_Inuktikut\"]\n",
    "cfd = nltk.ConditionalFreqDist(\n",
    "    (lang, len(word))\n",
    "    for lang in languages\n",
    "    for word in udhr.words(lang + \"-Latin1\"))\n",
    "\n",
    "cfd.tabulate(conditions = [\"English\", \"Greenlandic_Inuktikut\"],\n",
    "            samples = range(12), cumulative = True)"
   ]
  },
  {
   "cell_type": "code",
   "execution_count": 80,
   "metadata": {},
   "outputs": [
    {
     "name": "stdout",
     "output_type": "stream",
     "text": [
      "daughters of the land of the land of the land of the land of the land of the land of the land of the land of the land of the land "
     ]
    }
   ],
   "source": [
    "# Generate random text with bigrams\n",
    "\n",
    "def generate_model(cfdist, word, num = 31):\n",
    "    for i in range(num):\n",
    "        print(word, end = \" \")\n",
    "        word = cfdist[word].max()\n",
    "        \n",
    "text = nltk.corpus.genesis.words(\"english-kjv.txt\")\n",
    "bigrams = nltk.bigrams(text)\n",
    "cfd = nltk.ConditionalFreqDist(bigrams)\n",
    "\n",
    "rword = \"daughters\"\n",
    "\n",
    "cfd[rword]\n",
    "generate_model(cfd, rword)"
   ]
  }
 ],
 "metadata": {
  "kernelspec": {
   "display_name": "Python 3",
   "language": "python",
   "name": "python3"
  },
  "language_info": {
   "codemirror_mode": {
    "name": "ipython",
    "version": 3
   },
   "file_extension": ".py",
   "mimetype": "text/x-python",
   "name": "python",
   "nbconvert_exporter": "python",
   "pygments_lexer": "ipython3",
   "version": "3.7.0"
  }
 },
 "nbformat": 4,
 "nbformat_minor": 2
}
