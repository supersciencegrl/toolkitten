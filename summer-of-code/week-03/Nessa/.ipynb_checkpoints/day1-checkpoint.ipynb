{
 "cells": [
  {
   "cell_type": "code",
   "execution_count": 4,
   "metadata": {},
   "outputs": [
    {
     "name": "stdout",
     "output_type": "stream",
     "text": [
      "carbyne\n",
      "benzyne\n",
      "yne\n",
      "alkyne\n",
      "yne\n"
     ]
    }
   ],
   "source": [
    "for line in open(\"bot-library.csv\"):\n",
    "# \"line\" can technically be called anything - so can \"word\"\n",
    "    for word in line.split():\n",
    "        if word.endswith(\"yne\"):\n",
    "            print(word)"
   ]
  },
  {
   "cell_type": "code",
   "execution_count": 5,
   "metadata": {},
   "outputs": [
    {
     "name": "stdout",
     "output_type": "stream",
     "text": [
      "*** Introductory Examples for the NLTK Book ***\n",
      "Loading text1, ..., text9 and sent1, ..., sent9\n",
      "Type the name of the text or sentence to view it.\n",
      "Type: 'texts()' or 'sents()' to list the materials.\n",
      "text1: Moby Dick by Herman Melville 1851\n",
      "text2: Sense and Sensibility by Jane Austen 1811\n",
      "text3: The Book of Genesis\n",
      "text4: Inaugural Address Corpus\n",
      "text5: Chat Corpus\n",
      "text6: Monty Python and the Holy Grail\n",
      "text7: Wall Street Journal\n",
      "text8: Personals Corpus\n",
      "text9: The Man Who Was Thursday by G . K . Chesterton 1908\n"
     ]
    }
   ],
   "source": [
    "import nltk\n",
    "from nltk.book import *"
   ]
  },
  {
   "cell_type": "code",
   "execution_count": 6,
   "metadata": {},
   "outputs": [
    {
     "name": "stdout",
     "output_type": "stream",
     "text": [
      "text1: Moby Dick by Herman Melville 1851\n",
      "text2: Sense and Sensibility by Jane Austen 1811\n",
      "text3: The Book of Genesis\n",
      "text4: Inaugural Address Corpus\n",
      "text5: Chat Corpus\n",
      "text6: Monty Python and the Holy Grail\n",
      "text7: Wall Street Journal\n",
      "text8: Personals Corpus\n",
      "text9: The Man Who Was Thursday by G . K . Chesterton 1908\n"
     ]
    }
   ],
   "source": [
    "texts()"
   ]
  },
  {
   "cell_type": "code",
   "execution_count": 7,
   "metadata": {},
   "outputs": [
    {
     "data": {
      "text/plain": [
       "<Text: Moby Dick by Herman Melville 1851>"
      ]
     },
     "execution_count": 7,
     "metadata": {},
     "output_type": "execute_result"
    }
   ],
   "source": [
    "text1"
   ]
  },
  {
   "cell_type": "code",
   "execution_count": 8,
   "metadata": {},
   "outputs": [
    {
     "name": "stdout",
     "output_type": "stream",
     "text": [
      "sent1: Call me Ishmael .\n",
      "sent2: The family of Dashwood had long been settled in Sussex .\n",
      "sent3: In the beginning God created the heaven and the earth .\n",
      "sent4: Fellow - Citizens of the Senate and of the House of Representatives :\n",
      "sent5: I have a problem with people PMing me to lol JOIN\n",
      "sent6: SCENE 1 : [ wind ] [ clop clop clop ] KING ARTHUR : Whoa there !\n",
      "sent7: Pierre Vinken , 61 years old , will join the board as a nonexecutive director Nov. 29 .\n",
      "sent8: 25 SEXY MALE , seeks attrac older single lady , for discreet encounters .\n",
      "sent9: THE suburb of Saffron Park lay on the sunset side of London , as red and ragged as a cloud of sunset .\n"
     ]
    }
   ],
   "source": [
    "sents()"
   ]
  },
  {
   "cell_type": "code",
   "execution_count": 10,
   "metadata": {},
   "outputs": [
    {
     "name": "stdout",
     "output_type": "stream",
     "text": [
      "Displaying 7 of 7 matches:\n",
      "home ; and , as no plan appeared so eligible to Mrs . Dashwood as remaining ther\n",
      ", so simple , and in her opinion so eligible of knowing the real state of the af\n",
      "umstances make the revealment of it eligible . I would not attempt to force the \n",
      " affection had been planning a most eligible connection for him , was it to be s\n",
      "ared to Elinor altogether much more eligible than any other . The Palmers were t\n",
      "e so much wished to see , in a more eligible , more comfortable manner , than an\n",
      "mediation of friends , or some more eligible opportunity of establishment for th\n"
     ]
    }
   ],
   "source": [
    "text2.concordance(\"eligible\")"
   ]
  },
  {
   "cell_type": "code",
   "execution_count": 20,
   "metadata": {},
   "outputs": [
    {
     "name": "stdout",
     "output_type": "stream",
     "text": [
      "lord garden way god earth face spirit waters good day firmament midst\n",
      "place land gathering herb fruit tree days stars\n"
     ]
    }
   ],
   "source": [
    "text3.similar(\"beginning\")"
   ]
  },
  {
   "cell_type": "code",
   "execution_count": 56,
   "metadata": {},
   "outputs": [
    {
     "name": "stdout",
     "output_type": "stream",
     "text": [
      "<Text: The Book of Genesis>\n",
      "\n",
      "Total words: 44764\n",
      "Number of unique words: 2789\n",
      "Lexical diversity: 0.06230453042623537\n"
     ]
    }
   ],
   "source": [
    "print(text3)\n",
    "print(\"\")\n",
    "\n",
    "# Number of words\n",
    "print(\"Total words: \" + str(len(text3)))\n",
    "\n",
    "# set is set of unique words\n",
    "print(\"Number of unique words: \" + str(len(set(text3))))\n",
    "\n",
    "print(\"Lexical diversity: \" + str(len(set(text3)) / len(text3)))"
   ]
  },
  {
   "cell_type": "code",
   "execution_count": 58,
   "metadata": {},
   "outputs": [],
   "source": [
    "def lexical_diversity(p):\n",
    "    return len(set(p)) / len(p)"
   ]
  },
  {
   "cell_type": "code",
   "execution_count": 65,
   "metadata": {},
   "outputs": [
    {
     "data": {
      "text/plain": [
       "0.12324685128531129"
      ]
     },
     "execution_count": 65,
     "metadata": {},
     "output_type": "execute_result"
    }
   ],
   "source": [
    "lexical_diversity(text7)"
   ]
  },
  {
   "cell_type": "code",
   "execution_count": 73,
   "metadata": {},
   "outputs": [
    {
     "name": "stdout",
     "output_type": "stream",
     "text": [
      "young_, a_who a_whose a_whom a_, a_of a_to young_of respectable_,\n",
      "young_who charming_, other_in a_in of_, young_. a_as\n"
     ]
    }
   ],
   "source": [
    "# Common contexts\n",
    "\n",
    "text2.common_contexts([\"man\", \"woman\"])"
   ]
  },
  {
   "cell_type": "code",
   "execution_count": 76,
   "metadata": {},
   "outputs": [
    {
     "name": "stdout",
     "output_type": "stream",
     "text": [
      "<FreqDist with 2166 samples and 16967 outcomes>\n"
     ]
    }
   ],
   "source": [
    "fdist6 = FreqDist(text6)\n",
    "print(fdist6)"
   ]
  },
  {
   "cell_type": "code",
   "execution_count": 77,
   "metadata": {},
   "outputs": [
    {
     "data": {
      "text/plain": [
       "[(':', 1197),\n",
       " ('.', 816),\n",
       " ('!', 801),\n",
       " (',', 731),\n",
       " (\"'\", 421),\n",
       " ('[', 319),\n",
       " (']', 312),\n",
       " ('the', 299),\n",
       " ('I', 255),\n",
       " ('ARTHUR', 225),\n",
       " ('?', 207),\n",
       " ('you', 204),\n",
       " ('a', 188),\n",
       " ('of', 158),\n",
       " ('--', 148),\n",
       " ('to', 144),\n",
       " ('s', 141),\n",
       " ('and', 135),\n",
       " ('#', 127),\n",
       " ('...', 118),\n",
       " ('Oh', 110),\n",
       " ('it', 107),\n",
       " ('is', 106),\n",
       " ('-', 88),\n",
       " ('in', 86),\n",
       " ('that', 84),\n",
       " ('t', 77),\n",
       " ('1', 76),\n",
       " ('No', 76),\n",
       " ('LAUNCELOT', 76),\n",
       " ('your', 75),\n",
       " ('not', 70),\n",
       " ('GALAHAD', 69),\n",
       " ('KNIGHT', 68),\n",
       " ('What', 65),\n",
       " ('FATHER', 63),\n",
       " ('we', 62),\n",
       " ('You', 61),\n",
       " ('BEDEVERE', 61),\n",
       " ('We', 60),\n",
       " ('this', 59),\n",
       " ('no', 55),\n",
       " ('Well', 54),\n",
       " ('HEAD', 54),\n",
       " ('have', 53),\n",
       " ('GUARD', 53),\n",
       " ('are', 52),\n",
       " ('Sir', 52),\n",
       " ('A', 50),\n",
       " ('And', 50)]"
      ]
     },
     "execution_count": 77,
     "metadata": {},
     "output_type": "execute_result"
    }
   ],
   "source": [
    "fdist6.most_common(50)"
   ]
  }
 ],
 "metadata": {
  "kernelspec": {
   "display_name": "Python 3",
   "language": "python",
   "name": "python3"
  },
  "language_info": {
   "codemirror_mode": {
    "name": "ipython",
    "version": 3
   },
   "file_extension": ".py",
   "mimetype": "text/x-python",
   "name": "python",
   "nbconvert_exporter": "python",
   "pygments_lexer": "ipython3",
   "version": "3.7.0"
  }
 },
 "nbformat": 4,
 "nbformat_minor": 2
}
